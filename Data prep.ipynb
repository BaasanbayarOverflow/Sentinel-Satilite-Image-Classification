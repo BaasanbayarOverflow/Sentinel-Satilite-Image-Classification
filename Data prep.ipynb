{
 "cells": [
  {
   "cell_type": "code",
   "execution_count": null,
   "id": "e365a3c1",
   "metadata": {},
   "outputs": [],
   "source": [
    "import os \n",
    "import shutil\n",
    "import matplotlib.pyplot as plt\n",
    "import seaborn as sns"
   ]
  },
  {
   "cell_type": "code",
   "execution_count": null,
   "id": "39c0b8fb",
   "metadata": {},
   "outputs": [],
   "source": [
    "data_path_training = os.path.join(r'.\\Sentinel Sat data', 'Train')\n",
    "data_path_testing = os.path.join(r'.\\Sentinel Sat data', 'Test')\n",
    "data_path_validation = os.path.join(r'.\\Sentinel Sat data', 'Validation')"
   ]
  },
  {
   "cell_type": "code",
   "execution_count": null,
   "id": "77cfadce",
   "metadata": {},
   "outputs": [],
   "source": [
    "class_names = os.listdir(data_path_training)\n",
    "\n",
    "data_path_validation_class = []  \n",
    "data_path_testing_class = []\n",
    "\n",
    "for name in tqdm(class_names):\n",
    "    dir_test = os.path.join(data_path_testing, name)\n",
    "    dir_validation = os.path.join(data_path_validation, name)\n",
    "    if not os.path.exists(dir_test):\n",
    "        os.mkdir(dir_test)\n",
    "    if not os.path.exists(dir_validation):\n",
    "        os.mkdir(dir_validation)\n",
    "    \n",
    "    data_path_testing_class.append(dir_test)\n",
    "    data_path_validation_class.append(dir_validation)\n",
    "\n",
    "for class_name in tqdm(class_names):\n",
    "    path_name = os.path.join(data_path_training, class_name)\n",
    "    images_list = glob(path_name + r'\\*.*')\n",
    "    \n",
    "    images_list_len = len(images_list)\n",
    "    images__30__len = images_list_len - int(images_list_len * 0.3) \n",
    "    images__10__len = images_list_len - int(images_list_len * 0.1)\n",
    "    \n",
    "    images__10 = images_list[images__10__len:]\n",
    "    images__30 = images_list[images__30__len:images__10__len]\n",
    "    \n",
    "    for image in images__10:\n",
    "        destination = os.path.join(data_path_validation, class_name) \n",
    "        shutil.move(image, destination)\n",
    "    \n",
    "    for image in images__30:\n",
    "        destination = os.path.join(data_path_testing, class_name)\n",
    "        shutil.move(image, destination)"
   ]
  }
 ],
 "metadata": {
  "kernelspec": {
   "display_name": "Python 3 (ipykernel)",
   "language": "python",
   "name": "python3"
  },
  "language_info": {
   "codemirror_mode": {
    "name": "ipython",
    "version": 3
   },
   "file_extension": ".py",
   "mimetype": "text/x-python",
   "name": "python",
   "nbconvert_exporter": "python",
   "pygments_lexer": "ipython3",
   "version": "3.7.13"
  }
 },
 "nbformat": 4,
 "nbformat_minor": 5
}
